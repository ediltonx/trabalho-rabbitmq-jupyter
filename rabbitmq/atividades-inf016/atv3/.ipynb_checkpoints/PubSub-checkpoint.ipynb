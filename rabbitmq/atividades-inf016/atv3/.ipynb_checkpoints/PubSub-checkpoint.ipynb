{
 "cells": [
  {
   "cell_type": "markdown",
   "metadata": {
    "id": "UZYaUp34PWCK"
   },
   "source": [
    "**Neste tutorial, a mensagem será enviada para diversos consumidores ao mesmo tempo. Esse método é chamado de publisher-subscriber. O mesmo é composto por um produtor, um buffer e os consumidores**\n",
    "\n",
    "![exchanges.png](data:image/png;base64,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)"
   ]
  },
  {
   "cell_type": "markdown",
   "metadata": {
    "id": "XXV7Y59DScCk"
   },
   "source": [
    "mais informacoes acesse: https://www.rabbitmq.com/tutorials/tutorial-three-python.html"
   ]
  },
  {
   "cell_type": "code",
   "execution_count": null,
   "metadata": {
    "id": "ffMCPXf7ONg_"
   },
   "outputs": [],
   "source": [
    "#!/usr/bin/env python\n",
    "import pika\n",
    "import sys\n",
    "\n",
    "connection = pika.BlockingConnection(\n",
    "    pika.ConnectionParameters(host='localhost'))\n",
    "channel = connection.channel()\n",
    "\n",
    "channel.exchange_declare(exchange='logs', exchange_type='fanout')\n",
    "\n",
    "message = ' '.join(sys.argv[1:]) or \"info: Hello World!\"\n",
    "channel.basic_publish(exchange='logs', routing_key='', body=message)\n",
    "print(\" [x] Sent %r\" % message)\n",
    "connection.close()"
   ]
  },
  {
   "cell_type": "code",
   "execution_count": null,
   "metadata": {
    "id": "JGwbNvJnQQcD"
   },
   "outputs": [],
   "source": [
    "#!/usr/bin/env python\n",
    "import pika, sys, os\n",
    "\n",
    "def main():\n",
    "    connection = pika.BlockingConnection(\n",
    "        pika.ConnectionParameters(host='localhost'))\n",
    "    channel = connection.channel()\n",
    "\n",
    "    channel.exchange_declare(exchange='logs', exchange_type='fanout')\n",
    "\n",
    "    result = channel.queue_declare(queue='', exclusive=True)\n",
    "    queue_name = result.method.queue\n",
    "\n",
    "    channel.queue_bind(exchange='logs', queue=queue_name)\n",
    "\n",
    "    def callback(ch, method, properties, body):\n",
    "        print(\" [x] %r\" % body.decode())\n",
    "\n",
    "    print(' [*] Waiting for logs. To exit press CTRL+C')\n",
    "    channel.basic_consume(\n",
    "        queue=queue_name, on_message_callback=callback, auto_ack=True)\n",
    "\n",
    "    channel.start_consuming()\n",
    "\n",
    "\n",
    "if __name__ == '__main__':\n",
    "    try:\n",
    "        main()\n",
    "    except KeyboardInterrupt:\n",
    "        print('Interrupted')\n",
    "        try:\n",
    "            sys.exit(0)\n",
    "        except SystemExit:\n",
    "            os._exit(0)"
   ]
  },
  {
   "cell_type": "markdown",
   "metadata": {
    "id": "60CAkSgDS0tv"
   },
   "source": [
    "para ver as duas filas criadas execute o comando abaixo:"
   ]
  },
  {
   "cell_type": "code",
   "execution_count": null,
   "metadata": {
    "id": "QiHrj9KBSv9y"
   },
   "outputs": [],
   "source": [
    "!rabbitmqctl list_bindings"
   ]
  }
 ],
 "metadata": {
  "colab": {
   "collapsed_sections": [],
   "provenance": []
  },
  "kernelspec": {
   "display_name": "Python 3 (ipykernel)",
   "language": "python",
   "name": "python3"
  },
  "language_info": {
   "codemirror_mode": {
    "name": "ipython",
    "version": 3
   },
   "file_extension": ".py",
   "mimetype": "text/x-python",
   "name": "python",
   "nbconvert_exporter": "python",
   "pygments_lexer": "ipython3",
   "version": "3.10.4"
  }
 },
 "nbformat": 4,
 "nbformat_minor": 4
}
