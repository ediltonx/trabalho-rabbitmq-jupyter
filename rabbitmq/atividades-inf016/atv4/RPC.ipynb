{
 "cells": [
  {
   "cell_type": "markdown",
   "metadata": {
    "id": "EpDgbF4YWb6M"
   },
   "source": [
    "**Essa atividade e conhecida como remote procedure call (RPC), onde um cliente envia uma demanda ao servidor e o mesmo responde**\n",
    "\n",
    "\n",
    "![python-six.png](data:image/png;base64,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)\n",
    "\n"
   ]
  },
  {
   "cell_type": "markdown",
   "metadata": {},
   "source": [
    "**Tecnicamente simula uma arquitetura cliente servidor, utilizando mensageria**"
   ]
  },
  {
   "cell_type": "code",
   "execution_count": null,
   "metadata": {
    "id": "B60GEDykXSsA",
    "tags": []
   },
   "outputs": [],
   "source": [
    "#!/usr/bin/env python\n",
    "import pika\n",
    "                                              #servidor\n",
    "connection = pika.BlockingConnection(\n",
    "    pika.ConnectionParameters(host='localhost'))\n",
    "\n",
    "channel = connection.channel()\n",
    "\n",
    "channel.queue_declare(queue='rpc_queue')\n",
    "\n",
    "\n",
    "def fib(n):\n",
    "    if n == 0:\n",
    "        return 0\n",
    "    elif n == 1:\n",
    "        return 1\n",
    "    else:\n",
    "        return fib(n - 1) + fib(n - 2)\n",
    "\n",
    "\n",
    "def on_request(ch, method, props, body):\n",
    "    n = int(body)\n",
    "\n",
    "    print(\" [.] fib(%s)\" % n)\n",
    "    response = fib(n)\n",
    "\n",
    "    ch.basic_publish(exchange='',\n",
    "                     routing_key=props.reply_to,\n",
    "                     properties=pika.BasicProperties(correlation_id = \\\n",
    "                                                         props.correlation_id),\n",
    "                     body=str(response))\n",
    "    ch.basic_ack(delivery_tag=method.delivery_tag)\n",
    "\n",
    "\n",
    "channel.basic_qos(prefetch_count=1)\n",
    "channel.basic_consume(queue='rpc_queue', on_message_callback=on_request)\n",
    "\n",
    "print(\" [x] Awaiting RPC requests\")\n",
    "channel.start_consuming()"
   ]
  },
  {
   "cell_type": "code",
   "execution_count": null,
   "metadata": {
    "id": "I2rpCis3WQCO"
   },
   "outputs": [],
   "source": [
    "#!/usr/bin/env python\n",
    "import pika\n",
    "import uuid\n",
    "                                            #cliente\n",
    "\n",
    "class FibonacciRpcClient(object):\n",
    "\n",
    "    def __init__(self):\n",
    "        self.connection = pika.BlockingConnection(\n",
    "            pika.ConnectionParameters(host='localhost'))\n",
    "\n",
    "        self.channel = self.connection.channel()\n",
    "\n",
    "        result = self.channel.queue_declare(queue='', exclusive=True)\n",
    "        self.callback_queue = result.method.queue\n",
    "\n",
    "        self.channel.basic_consume(\n",
    "            queue=self.callback_queue,\n",
    "            on_message_callback=self.on_response,\n",
    "            auto_ack=True)\n",
    "\n",
    "        self.response = None\n",
    "        self.corr_id = None\n",
    "\n",
    "    def on_response(self, ch, method, props, body):\n",
    "        if self.corr_id == props.correlation_id:\n",
    "            self.response = body\n",
    "\n",
    "    def call(self, n):\n",
    "        self.response = None\n",
    "        self.corr_id = str(uuid.uuid4())\n",
    "        self.channel.basic_publish(\n",
    "            exchange='',\n",
    "            routing_key='rpc_queue',\n",
    "            properties=pika.BasicProperties(\n",
    "                reply_to=self.callback_queue,\n",
    "                correlation_id=self.corr_id,\n",
    "            ),\n",
    "            body=str(n))\n",
    "        self.connection.process_data_events(time_limit=None)\n",
    "        return int(self.response)\n",
    "\n",
    "\n",
    "fibonacci_rpc = FibonacciRpcClient()\n",
    "\n",
    "print(\" [x] Requesting fib(30)\")\n",
    "response = fibonacci_rpc.call(30)\n",
    "print(\" [.] Got %r\" % response)"
   ]
  }
 ],
 "metadata": {
  "colab": {
   "collapsed_sections": [],
   "provenance": []
  },
  "kernelspec": {
   "display_name": "Python 3 (ipykernel)",
   "language": "python",
   "name": "python3"
  },
  "language_info": {
   "codemirror_mode": {
    "name": "ipython",
    "version": 3
   },
   "file_extension": ".py",
   "mimetype": "text/x-python",
   "name": "python",
   "nbconvert_exporter": "python",
   "pygments_lexer": "ipython3",
   "version": "3.10.4"
  }
 },
 "nbformat": 4,
 "nbformat_minor": 4
}
