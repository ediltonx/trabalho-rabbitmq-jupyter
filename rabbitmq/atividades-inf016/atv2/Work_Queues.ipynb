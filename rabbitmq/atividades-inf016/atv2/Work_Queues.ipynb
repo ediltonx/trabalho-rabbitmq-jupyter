{
 "cells": [
  {
   "cell_type": "markdown",
   "metadata": {
    "id": "v-0wpqtzF9lt"
   },
   "source": [
    "**Nessa segunda prática o objetivo é simular uma fila de tarefas onde cada consumidor (Worker) vai realizar sua atividade em seu devido tempo, simulando situações reais onde nao é possivel realizar atividades complexas, como numa requisição de HTTP que tem tempo de duracao curto.**\n",
    "\n",
    "![python-two.png](data:image/png;base64,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)"
   ]
  },
  {
   "cell_type": "code",
   "execution_count": null,
   "metadata": {
    "id": "iGkOX60kFvP8"
   },
   "outputs": [],
   "source": [
    "#!/usr/bin/env python\n",
    "import pika\n",
    "import sys\n",
    "                                                 #produtor das tasks\n",
    "connection = pika.BlockingConnection(\n",
    "    pika.ConnectionParameters(host='localhost'))\n",
    "channel = connection.channel()\n",
    "\n",
    "channel.queue_declare(queue='task_queue', durable=True)\n",
    "\n",
    "message = ' '.join(sys.argv[1:]) or \"Hello World!\"\n",
    "channel.basic_publish(\n",
    "    exchange='',\n",
    "    routing_key='task_queue',\n",
    "    body=message,\n",
    "    properties=pika.BasicProperties(\n",
    "        delivery_mode=pika.spec.PERSISTENT_DELIVERY_MODE,\n",
    "    ))\n",
    "print(\" [x] Sent %r\" % message)\n",
    "connection.close()"
   ]
  },
  {
   "cell_type": "code",
   "execution_count": null,
   "metadata": {
    "id": "9l8djI7LH3bK"
   },
   "outputs": [],
   "source": [
    "#!/usr/bin/env python\n",
    "import pika\n",
    "import time\n",
    "                                                    #worker1\n",
    "connection = pika.BlockingConnection(\n",
    "    pika.ConnectionParameters(host='localhost'))\n",
    "channel = connection.channel()\n",
    "\n",
    "channel.queue_declare(queue='task_queue', durable=True)\n",
    "print(' [*] Waiting for messages. To exit press CTRL+C')\n",
    "\n",
    "\n",
    "def callback(ch, method, properties, body):\n",
    "    print(\" [x] Received %r\" % body.decode())\n",
    "    time.sleep(body.count(b'.'))\n",
    "    print(\" [x] Done\")\n",
    "    ch.basic_ack(delivery_tag=method.delivery_tag)\n",
    "\n",
    "\n",
    "channel.basic_qos(prefetch_count=1)\n",
    "channel.basic_consume(queue='task_queue', on_message_callback=callback)\n",
    "\n",
    "channel.start_consuming()"
   ]
  },
  {
   "cell_type": "code",
   "execution_count": null,
   "metadata": {
    "id": "3bgvEtPkIPy4"
   },
   "outputs": [],
   "source": [
    "#!/usr/bin/env python\n",
    "import pika\n",
    "import time\n",
    "                                                    #worker2\n",
    "connection = pika.BlockingConnection(\n",
    "    pika.ConnectionParameters(host='localhost'))\n",
    "channel = connection.channel()\n",
    "\n",
    "channel.queue_declare(queue='task_queue', durable=True)\n",
    "print(' [*] Waiting for messages. To exit press CTRL+C')\n",
    "\n",
    "\n",
    "def callback(ch, method, properties, body):\n",
    "    print(\" [x] Received %r\" % body.decode())\n",
    "    time.sleep(body.count(b'.'))\n",
    "    print(\" [x] Done\")\n",
    "    ch.basic_ack(delivery_tag=method.delivery_tag)\n",
    "\n",
    "\n",
    "channel.basic_qos(prefetch_count=1)\n",
    "channel.basic_consume(queue='task_queue', on_message_callback=callback)\n",
    "\n",
    "channel.start_consuming()"
   ]
  },
  {
   "cell_type": "markdown",
   "metadata": {
    "id": "31jEOgYL6Th2"
   },
   "source": [
    "**outra forma de fazer o mesmo procedimento é usando o comando do python no próprio bash, como veremos a seguir.**.. "
   ]
  },
  {
   "cell_type": "code",
   "execution_count": null,
   "metadata": {
    "id": "6_SRp7fY6hNn"
   },
   "outputs": [],
   "source": [
    "!python3 /inf016/atv2/send.py"
   ]
  },
  {
   "cell_type": "code",
   "execution_count": null,
   "metadata": {
    "id": "IIDN3eVX6hv6"
   },
   "outputs": [],
   "source": [
    "!python3 /inf016/atv2/worker1.py"
   ]
  },
  {
   "cell_type": "code",
   "execution_count": null,
   "metadata": {
    "id": "shXWHjr0Id36"
   },
   "outputs": [],
   "source": [
    "!python3 /inf016/atv2/worker2.py"
   ]
  }
 ],
 "metadata": {
  "colab": {
   "collapsed_sections": [],
   "provenance": []
  },
  "kernelspec": {
   "display_name": "Python 3 (ipykernel)",
   "language": "python",
   "name": "python3"
  },
  "language_info": {
   "codemirror_mode": {
    "name": "ipython",
    "version": 3
   },
   "file_extension": ".py",
   "mimetype": "text/x-python",
   "name": "python",
   "nbconvert_exporter": "python",
   "pygments_lexer": "ipython3",
   "version": "3.10.4"
  }
 },
 "nbformat": 4,
 "nbformat_minor": 4
}
