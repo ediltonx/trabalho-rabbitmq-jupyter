{
 "cells": [
  {
   "cell_type": "markdown",
   "metadata": {
    "id": "BqFRGQoY5QfF"
   },
   "source": [
    "**Essa prática usará apenas dois componentes, um produtor que manda a \n",
    "frase Hello World para a fila de mensagens e um consumidor que notificar o recebimento dela.**\n",
    "\n",
    "![produtor-con.png](data:image/png;base64,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)"
   ]
  },
  {
   "cell_type": "code",
   "execution_count": null,
   "metadata": {
    "colab": {
     "base_uri": "https://localhost:8080/",
     "height": 374
    },
    "id": "ovZLRgwW2Ae3",
    "outputId": "500c90f5-dbc9-4ecc-f100-67badc9cab8e"
   },
   "outputs": [],
   "source": [
    "\n",
    "#!/usr/bin/env python\n",
    "import pika\n",
    "\n",
    "connection = pika.BlockingConnection(\n",
    "    pika.ConnectionParameters(host='localhost'))\n",
    "channel = connection.channel()\n",
    "\n",
    "channel.queue_declare(queue='hello')\n",
    "\n",
    "channel.basic_publish(exchange='', routing_key='hello', body='Hello World!')\n",
    "print(\" [x] Sent 'Hello World!'\")\n",
    "connection.close()\n"
   ]
  },
  {
   "cell_type": "code",
   "execution_count": null,
   "metadata": {
    "id": "cBAZV18i5rLC"
   },
   "outputs": [],
   "source": [
    "#!/usr/bin/env python\n",
    "import pika, sys, os\n",
    "\n",
    "def main():\n",
    "    connection = pika.BlockingConnection(pika.ConnectionParameters(host='localhost'))\n",
    "    channel = connection.channel()\n",
    "\n",
    "    channel.queue_declare(queue='hello')\n",
    "\n",
    "    def callback(ch, method, properties, body):\n",
    "        print(\" [x] Received %r\" % body.decode())\n",
    "\n",
    "    channel.basic_consume(queue='hello', on_message_callback=callback, auto_ack=True)\n",
    "\n",
    "    print(' [*] Waiting for messages. To exit press CTRL+C')\n",
    "    channel.start_consuming()\n",
    "\n",
    "if __name__ == '__main__':\n",
    "    try:\n",
    "        main()\n",
    "    except KeyboardInterrupt:\n",
    "        print('Interrupted')\n",
    "        try:\n",
    "            sys.exit(0)\n",
    "        except SystemExit:\n",
    "            os._exit(0)"
   ]
  },
  {
   "cell_type": "markdown",
   "metadata": {
    "id": "31jEOgYL6Th2"
   },
   "source": [
    "**Outra forma de fazer o mesmo procedimento  é usando o comando do python no próprio bash, como veremos a seguir...**"
   ]
  },
  {
   "cell_type": "code",
   "execution_count": null,
   "metadata": {
    "colab": {
     "base_uri": "https://localhost:8080/"
    },
    "id": "HcLy3-ij672Z",
    "outputId": "678fa29a-8f85-406f-f998-77459eb8318c"
   },
   "outputs": [],
   "source": [
    "!pwd"
   ]
  },
  {
   "cell_type": "code",
   "execution_count": null,
   "metadata": {
    "id": "6_SRp7fY6hNn"
   },
   "outputs": [],
   "source": [
    "!python3 send.py"
   ]
  },
  {
   "cell_type": "code",
   "execution_count": null,
   "metadata": {
    "id": "IIDN3eVX6hv6"
   },
   "outputs": [],
   "source": [
    "!python3 receive.py"
   ]
  },
  {
   "cell_type": "code",
   "execution_count": null,
   "metadata": {},
   "outputs": [],
   "source": []
  }
 ],
 "metadata": {
  "colab": {
   "collapsed_sections": [],
   "provenance": []
  },
  "kernelspec": {
   "display_name": "Python 3 (ipykernel)",
   "language": "python",
   "name": "python3"
  },
  "language_info": {
   "codemirror_mode": {
    "name": "ipython",
    "version": 3
   },
   "file_extension": ".py",
   "mimetype": "text/x-python",
   "name": "python",
   "nbconvert_exporter": "python",
   "pygments_lexer": "ipython3",
   "version": "3.10.4"
  }
 },
 "nbformat": 4,
 "nbformat_minor": 4
}
