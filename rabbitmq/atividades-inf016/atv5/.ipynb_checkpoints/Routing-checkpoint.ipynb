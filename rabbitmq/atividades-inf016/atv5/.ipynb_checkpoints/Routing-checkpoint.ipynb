{
 "cells": [
  {
   "cell_type": "markdown",
   "id": "317e3527-f7d5-45f0-b503-5ce842de7466",
   "metadata": {},
   "source": [
    "**Nesta atividade será mostrado no rabbitmq, a possibilidade de escolher qual mensagem o consumidor utilizará, basicamente é o Publisher Sbscriber melhorado com a feature de roteamento**\n",
    "\n",
    "![python-four.png](data:image/png;base64,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)"
   ]
  },
  {
   "cell_type": "code",
   "execution_count": null,
   "id": "a01e2fae-eb52-4bfe-97ce-986226ebfdb1",
   "metadata": {},
   "outputs": [],
   "source": [
    "#!/usr/bin/env python\n",
    "import pika\n",
    "import sys\n",
    "\n",
    "connection = pika.BlockingConnection(\n",
    "    pika.ConnectionParameters(host='localhost'))\n",
    "channel = connection.channel()\n",
    "\n",
    "channel.exchange_declare(exchange='direct_logs', exchange_type='direct')\n",
    "\n",
    "severity = sys.argv[1] if len(sys.argv) > 2 else 'info'\n",
    "message = ' '.join(sys.argv[2:]) or 'Hello World!'\n",
    "channel.basic_publish(\n",
    "    exchange='direct_logs', routing_key=severity, body=message)\n",
    "print(\" [x] Sent %r:%r\" % (severity, message))\n",
    "connection.close("
   ]
  },
  {
   "cell_type": "code",
   "execution_count": null,
   "id": "8c472a06-bfac-458d-8c78-bcdd31b3a922",
   "metadata": {},
   "outputs": [],
   "source": [
    "#!/usr/bin/env python\n",
    "import pika, sys, os\n",
    "\n",
    "def main():\n",
    "    connection = pika.BlockingConnection(\n",
    "    pika.ConnectionParameters(host='localhost'))\n",
    "    channel = connection.channel()\n",
    "\n",
    "    channel.exchange_declare(exchange='direct_logs', exchange_type='direct')\n",
    "\n",
    "    result = channel.queue_declare(queue='', exclusive=True)\n",
    "    queue_name = result.method.queue\n",
    "\n",
    "    severities = sys.argv[1:]\n",
    "    if not severities:\n",
    "        sys.stderr.write(\"Usage: %s [info] [warning] [error]\\n\" % sys.argv[0])\n",
    "        sys.exit(1)\n",
    "\n",
    "    for severity in severities:\n",
    "        channel.queue_bind(\n",
    "            exchange='direct_logs', queue=queue_name, routing_key=severity)\n",
    "\n",
    "    print(' [*] Waiting for logs. To exit press CTRL+C')\n",
    "\n",
    "\n",
    "    def callback(ch, method, properties, body):\n",
    "        print(\" [x] %r:%r\" % (method.routing_key, body.decode()))\n",
    "\n",
    "\n",
    "    channel.basic_consume(\n",
    "        queue=queue_name, on_message_callback=callback, auto_ack=True)\n",
    "\n",
    "    channel.start_consuming()\n",
    "\n",
    "\n",
    "if __name__ == '__main__':\n",
    "    try:\n",
    "        main()\n",
    "    except KeyboardInterrupt:\n",
    "        print('Interrupted')\n",
    "        try:\n",
    "            sys.exit(0)\n",
    "        except SystemExit:\n",
    "            os._exit(0)"
   ]
  },
  {
   "cell_type": "markdown",
   "id": "406a2608-dd60-421d-8be0-1e365725c1aa",
   "metadata": {},
   "source": [
    "**Caso deseje receber todas as mensagens utilize o seguinte comando**"
   ]
  },
  {
   "cell_type": "code",
   "execution_count": null,
   "id": "9588b395-fa5d-41cb-a295-b235fd33f2a0",
   "metadata": {},
   "outputs": [],
   "source": [
    "python3 receive_logs_direct.py info warning error"
   ]
  },
  {
   "cell_type": "markdown",
   "id": "6af20062-f4a7-4cd2-8863-6acc0680282b",
   "metadata": {},
   "source": [
    "**Caso deseje receber somente mensagens de erro, use o comando abaixo**"
   ]
  },
  {
   "cell_type": "code",
   "execution_count": null,
   "id": "21cec282-bcab-4be2-bfd5-e7d1a69ec42e",
   "metadata": {},
   "outputs": [],
   "source": [
    "python3 receive_logs_direct.py warning error"
   ]
  }
 ],
 "metadata": {
  "kernelspec": {
   "display_name": "Python 3 (ipykernel)",
   "language": "python",
   "name": "python3"
  },
  "language_info": {
   "codemirror_mode": {
    "name": "ipython",
    "version": 3
   },
   "file_extension": ".py",
   "mimetype": "text/x-python",
   "name": "python",
   "nbconvert_exporter": "python",
   "pygments_lexer": "ipython3",
   "version": "3.10.4"
  }
 },
 "nbformat": 4,
 "nbformat_minor": 5
}
